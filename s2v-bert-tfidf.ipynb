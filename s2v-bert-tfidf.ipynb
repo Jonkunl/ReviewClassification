{
 "cells": [
  {
   "cell_type": "code",
   "execution_count": 2,
   "metadata": {},
   "outputs": [
    {
     "name": "stderr",
     "output_type": "stream",
     "text": [
      "Using TensorFlow backend.\n"
     ]
    }
   ],
   "source": [
    "from embeddings import s2v_embedding, bert_embedding, w2v_embedding, tfidf_embedding\n",
    "from NeuralNetClassifier import fullyconnected as fc\n",
    "from NeuralNetClassifier import print_results\n",
    "import pandas as pd\n",
    "import numpy as np\n",
    "import re"
   ]
  },
  {
   "cell_type": "markdown",
   "metadata": {},
   "source": [
    "###### Read the correpsonding csv file"
   ]
  },
  {
   "cell_type": "code",
   "execution_count": 6,
   "metadata": {},
   "outputs": [],
   "source": [
    "#uncomment following for s2v and bert model\n",
    "# train = pd.read_csv('../dataset/yelp/s2v_Yelp_train.csv')\n",
    "# testval = pd.read_csv('../dataset/yelp/s2v-Yelp-test_validate.csv')\n",
    "\n",
    "\n",
    "#uncomment following for tf-idf\n",
    "yelp = pd.read_csv('../unimelb/dataset/yelp/Yelp.csv')\n",
    "train = yelp[:25000]\n",
    "testval = yelp[25000:]"
   ]
  },
  {
   "cell_type": "code",
   "execution_count": 7,
   "metadata": {},
   "outputs": [],
   "source": [
    "# split into test and validate set\n",
    "validate, test = np.split(testval, 2)"
   ]
  },
  {
   "cell_type": "markdown",
   "metadata": {},
   "source": [
    "##### use following to convert sent2vec embeddings, the input is a list of review text"
   ]
  },
  {
   "cell_type": "code",
   "execution_count": 4,
   "metadata": {},
   "outputs": [],
   "source": [
    "x_train = s2v_embedding(train['sent2vec'].values)\n",
    "\n",
    "#column name is 'stars' for Yelp! and 'rating' for Zappos dataset.\n",
    "y_train = np.asarray([x-1 for x in train['stars'].values])\n",
    "\n",
    "x_validate = s2v_embedding(validate['sent2vec'].values)\n",
    "y_validate = np.asarray([x-1 for x in validate['stars'].values])\n",
    "\n",
    "x_test = s2v_embedding(test['sent2vec'].values)\n",
    "y_test = np.asarray([x-1 for x in test['stars'].values])"
   ]
  },
  {
   "cell_type": "markdown",
   "metadata": {},
   "source": [
    "##### use following to convert BERT embeddings, the input is a list of review text"
   ]
  },
  {
   "cell_type": "code",
   "execution_count": null,
   "metadata": {},
   "outputs": [],
   "source": [
    "x_train = bert_embedding(train['bert'].values)\n",
    "\n",
    "#column name is 'stars' for Yelp! and 'rating' for Zappos dataset.\n",
    "y_train = np.asarray([x-1 for x in train['stars'].values]) \n",
    "\n",
    "x_validate = bert_embedding(validate['bert'].values)\n",
    "y_validate = np.asarray([x-1 for x in validate['stars'].values])\n",
    "\n",
    "x_test = bert_embedding(test['bert'].values)\n",
    "y_test = np.asarray([x-1 for x in test['stars'].values])"
   ]
  },
  {
   "cell_type": "markdown",
   "metadata": {},
   "source": [
    "###### use following to convert tf-idf embeddings, the input is a Series of review text"
   ]
  },
  {
   "cell_type": "code",
   "execution_count": 4,
   "metadata": {},
   "outputs": [],
   "source": [
    "def clean_text(df, col):\n",
    "    \"\"\"A function for keeping only alpha-numeric\n",
    "    characters and replacing all white space with\n",
    "    a single space.\n",
    "    \"\"\"\n",
    "    return df[col].apply(lambda x: re.sub('[^A-Za-z0-9]+', ' ', str(x).lower()))\\\n",
    "                  .apply(lambda x: re.sub('\\s+', ' ', x).strip())"
   ]
  },
  {
   "cell_type": "code",
   "execution_count": 8,
   "metadata": {},
   "outputs": [],
   "source": [
    "#column name 'text' for Yelp!, 'review content' for Zappos\n",
    "x_train = tfidf_embedding(clean_text(train, 'text'))\n",
    "x_validate = tfidf_embedding(clean_text(validate, 'text'))\n",
    "x_test = tfidf_embedding(clean_text(test, 'text'))\n",
    "\n",
    "y_train = np.asarray([x-1 for x in train['stars'].values])\n",
    "y_validate = np.asarray([x-1 for x in validate['stars'].values])\n",
    "y_test = np.asarray([x-1 for x in test['stars'].values])"
   ]
  },
  {
   "cell_type": "markdown",
   "metadata": {},
   "source": [
    "##### train the nn classifier with fc layer\n",
    "the parameters are (dimension, training set embeddings, training set labels, validate set embeddings, validate set labels)\n",
    "\n",
    "dimension for s2v is 600 for s2v, 768 for BERT, 300 for w2v, and 300 for tf-idf for our project"
   ]
  },
  {
   "cell_type": "code",
   "execution_count": 9,
   "metadata": {},
   "outputs": [
    {
     "name": "stdout",
     "output_type": "stream",
     "text": [
      "WARNING:tensorflow:From /Library/Frameworks/Python.framework/Versions/3.7/lib/python3.7/site-packages/tensorflow/python/ops/resource_variable_ops.py:435: colocate_with (from tensorflow.python.framework.ops) is deprecated and will be removed in a future version.\n",
      "Instructions for updating:\n",
      "Colocations handled automatically by placer.\n",
      "Train on 25000 samples, validate on 10000 samples\n",
      "Epoch 1/25\n",
      "25000/25000 [==============================] - 1s 43us/step - loss: 1.6038 - accuracy: 0.2270 - categorical_accuracy: 0.2419 - val_loss: 1.5971 - val_accuracy: 0.2901 - val_categorical_accuracy: 0.1928\n",
      "Epoch 2/25\n",
      "25000/25000 [==============================] - 1s 56us/step - loss: 1.5713 - accuracy: 0.2804 - categorical_accuracy: 0.2576 - val_loss: 1.5708 - val_accuracy: 0.3451 - val_categorical_accuracy: 0.4214\n",
      "Epoch 3/25\n",
      "25000/25000 [==============================] - 1s 34us/step - loss: 1.4977 - accuracy: 0.3314 - categorical_accuracy: 0.3009 - val_loss: 1.5076 - val_accuracy: 0.4014 - val_categorical_accuracy: 0.3869\n",
      "Epoch 4/25\n",
      "25000/25000 [==============================] - 1s 33us/step - loss: 1.4016 - accuracy: 0.3856 - categorical_accuracy: 0.2886 - val_loss: 1.4696 - val_accuracy: 0.4030 - val_categorical_accuracy: 0.3544\n",
      "Epoch 5/25\n",
      "25000/25000 [==============================] - 1s 34us/step - loss: 1.3199 - accuracy: 0.4238 - categorical_accuracy: 0.2634 - val_loss: 1.5135 - val_accuracy: 0.3781 - val_categorical_accuracy: 0.3689\n",
      "Epoch 6/25\n",
      "25000/25000 [==============================] - 1s 42us/step - loss: 1.2719 - accuracy: 0.4470 - categorical_accuracy: 0.2559 - val_loss: 1.4970 - val_accuracy: 0.3893 - val_categorical_accuracy: 0.3087\n",
      "Epoch 7/25\n",
      "25000/25000 [==============================] - 1s 40us/step - loss: 1.2372 - accuracy: 0.4678 - categorical_accuracy: 0.2448 - val_loss: 1.6256 - val_accuracy: 0.3497 - val_categorical_accuracy: 0.3597\n",
      "Epoch 8/25\n",
      "25000/25000 [==============================] - 1s 33us/step - loss: 1.2156 - accuracy: 0.4724 - categorical_accuracy: 0.2448 - val_loss: 1.6269 - val_accuracy: 0.3476 - val_categorical_accuracy: 0.3174\n",
      "Epoch 9/25\n",
      "25000/25000 [==============================] - 1s 34us/step - loss: 1.2010 - accuracy: 0.4858 - categorical_accuracy: 0.2446 - val_loss: 1.6124 - val_accuracy: 0.3484 - val_categorical_accuracy: 0.2590\n",
      "Epoch 10/25\n",
      "25000/25000 [==============================] - 1s 33us/step - loss: 1.1868 - accuracy: 0.4894 - categorical_accuracy: 0.2370 - val_loss: 1.6999 - val_accuracy: 0.3311 - val_categorical_accuracy: 0.2843\n",
      "Epoch 11/25\n",
      "25000/25000 [==============================] - 1s 34us/step - loss: 1.1797 - accuracy: 0.4991 - categorical_accuracy: 0.2366 - val_loss: 1.6026 - val_accuracy: 0.3634 - val_categorical_accuracy: 0.2713\n",
      "Epoch 12/25\n",
      "25000/25000 [==============================] - 1s 36us/step - loss: 1.1750 - accuracy: 0.4987 - categorical_accuracy: 0.2348 - val_loss: 1.7096 - val_accuracy: 0.3322 - val_categorical_accuracy: 0.2781\n",
      "Epoch 13/25\n",
      "25000/25000 [==============================] - 1s 34us/step - loss: 1.1615 - accuracy: 0.5054 - categorical_accuracy: 0.2326 - val_loss: 1.7079 - val_accuracy: 0.3215 - val_categorical_accuracy: 0.2161\n",
      "Epoch 14/25\n",
      "25000/25000 [==============================] - 1s 33us/step - loss: 1.1608 - accuracy: 0.5021 - categorical_accuracy: 0.2356 - val_loss: 1.7013 - val_accuracy: 0.3237 - val_categorical_accuracy: 0.2261\n",
      "Epoch 15/25\n",
      "25000/25000 [==============================] - 1s 32us/step - loss: 1.1512 - accuracy: 0.5101 - categorical_accuracy: 0.2316 - val_loss: 1.6838 - val_accuracy: 0.3222 - val_categorical_accuracy: 0.1948\n",
      "Epoch 16/25\n",
      "25000/25000 [==============================] - 1s 36us/step - loss: 1.1448 - accuracy: 0.5090 - categorical_accuracy: 0.2286 - val_loss: 1.6586 - val_accuracy: 0.3331 - val_categorical_accuracy: 0.1999\n",
      "Epoch 17/25\n",
      "25000/25000 [==============================] - 1s 34us/step - loss: 1.1436 - accuracy: 0.5148 - categorical_accuracy: 0.2282 - val_loss: 1.6851 - val_accuracy: 0.3293 - val_categorical_accuracy: 0.2079\n",
      "Epoch 18/25\n",
      "25000/25000 [==============================] - 1s 33us/step - loss: 1.1386 - accuracy: 0.5095 - categorical_accuracy: 0.2265 - val_loss: 1.6687 - val_accuracy: 0.3433 - val_categorical_accuracy: 0.2358\n",
      "Epoch 19/25\n",
      "25000/25000 [==============================] - 1s 33us/step - loss: 1.1329 - accuracy: 0.5150 - categorical_accuracy: 0.2270 - val_loss: 1.7005 - val_accuracy: 0.3351 - val_categorical_accuracy: 0.2401\n",
      "Epoch 20/25\n",
      "25000/25000 [==============================] - 1s 34us/step - loss: 1.1293 - accuracy: 0.5186 - categorical_accuracy: 0.2261 - val_loss: 1.7165 - val_accuracy: 0.3283 - val_categorical_accuracy: 0.1885\n",
      "Epoch 21/25\n",
      "25000/25000 [==============================] - 1s 33us/step - loss: 1.1263 - accuracy: 0.5218 - categorical_accuracy: 0.2233 - val_loss: 1.7604 - val_accuracy: 0.3074 - val_categorical_accuracy: 0.1838\n",
      "Epoch 22/25\n",
      "25000/25000 [==============================] - 1s 33us/step - loss: 1.1246 - accuracy: 0.5188 - categorical_accuracy: 0.2273 - val_loss: 1.7070 - val_accuracy: 0.3280 - val_categorical_accuracy: 0.2151\n",
      "Epoch 23/25\n",
      "25000/25000 [==============================] - 1s 33us/step - loss: 1.1237 - accuracy: 0.5255 - categorical_accuracy: 0.2256 - val_loss: 1.7430 - val_accuracy: 0.3161 - val_categorical_accuracy: 0.1590\n",
      "Epoch 24/25\n",
      "25000/25000 [==============================] - 1s 35us/step - loss: 1.1184 - accuracy: 0.5246 - categorical_accuracy: 0.2236 - val_loss: 1.7413 - val_accuracy: 0.3105 - val_categorical_accuracy: 0.1800\n",
      "Epoch 25/25\n",
      "25000/25000 [==============================] - 1s 44us/step - loss: 1.1164 - accuracy: 0.5260 - categorical_accuracy: 0.2269 - val_loss: 1.7468 - val_accuracy: 0.3226 - val_categorical_accuracy: 0.2258\n"
     ]
    }
   ],
   "source": [
    "model = fc(300, x_train, y_train, x_validate, y_validate)"
   ]
  },
  {
   "cell_type": "code",
   "execution_count": 10,
   "metadata": {},
   "outputs": [],
   "source": [
    "#predict the labels for the test set\n",
    "y_pred = model.predict(x_test, batch_size=128)"
   ]
  },
  {
   "cell_type": "markdown",
   "metadata": {},
   "source": [
    "##### print the result"
   ]
  },
  {
   "cell_type": "code",
   "execution_count": 11,
   "metadata": {},
   "outputs": [
    {
     "name": "stdout",
     "output_type": "stream",
     "text": [
      "F1 score: 0.1887\n",
      "[[ 603  424   92  104  184]\n",
      " [ 308  352   81   59   53]\n",
      " [ 370  478  115   56   72]\n",
      " [ 760  849  209  172  204]\n",
      " [1576 1415  420  399  645]]\n"
     ]
    }
   ],
   "source": [
    "print_results(y_test, y_pred)"
   ]
  },
  {
   "cell_type": "markdown",
   "metadata": {},
   "source": [
    "##### option to plot the roc-auc curve for a given prediction"
   ]
  },
  {
   "cell_type": "code",
   "execution_count": 13,
   "metadata": {},
   "outputs": [
    {
     "data": {
      "image/png": "[encoded data removed]",
      "text/plain": [
       "<Figure size 432x288 with 1 Axes>"
      ]
     },
     "metadata": {
      "needs_background": "light"
     },
     "output_type": "display_data"
    }
   ],
   "source": [
    "from NeuralNetClassifier import roc_auc_plot\n",
    "import keras\n",
    "\n",
    "y_true = keras.utils.to_categorical(y_test, num_classes=5)\n",
    "plt = roc_auc_plot(y_true, y_pred, title='tfidf-CNN')\n",
    "\n",
    "# plt.savefig('./s2v-cnn.png', dpi=300)"
   ]
  },
  {
   "cell_type": "markdown",
   "metadata": {},
   "source": [
    "##### train and predict using SVM classifier"
   ]
  },
  {
   "cell_type": "code",
   "execution_count": 14,
   "metadata": {},
   "outputs": [
    {
     "name": "stderr",
     "output_type": "stream",
     "text": [
      "/Library/Frameworks/Python.framework/Versions/3.7/lib/python3.7/importlib/_bootstrap.py:219: RuntimeWarning: numpy.ufunc size changed, may indicate binary incompatibility. Expected 216, got 192\n",
      "  return f(*args, **kwds)\n"
     ]
    }
   ],
   "source": [
    "from sklearn.svm import LinearSVC\n",
    "from sklearn.metrics import confusion_matrix, f1_score\n",
    "\n",
    "#initialise SVM\n",
    "svm = LinearSVC(dual=False, max_iter=5000)\n",
    "svm.fit(x_train, y_train)\n",
    "y_pred = svm.predict(x_test)"
   ]
  },
  {
   "cell_type": "code",
   "execution_count": 15,
   "metadata": {},
   "outputs": [
    {
     "name": "stdout",
     "output_type": "stream",
     "text": [
      "F1 score: 0.1872\n"
     ]
    },
    {
     "data": {
      "text/plain": [
       "array([[ 503,  437,  146,  134,  187],\n",
       "       [ 254,  363,   88,   92,   56],\n",
       "       [ 305,  500,  124,   89,   73],\n",
       "       [ 636,  849,  291,  218,  200],\n",
       "       [1360, 1271,  812,  348,  664]])"
      ]
     },
     "execution_count": 15,
     "metadata": {},
     "output_type": "execute_result"
    }
   ],
   "source": [
    "print(\"F1 score: {}\".format(f1_score(y_test, y_pred, average='micro')))\n",
    "confusion_matrix(y_test, y_pred)"
   ]
  },
  {
   "cell_type": "code",
   "execution_count": null,
   "metadata": {},
   "outputs": [],
   "source": []
  },
  {
   "cell_type": "code",
   "execution_count": null,
   "metadata": {},
   "outputs": [],
   "source": []
  }
 ],
 "metadata": {
  "kernelspec": {
   "display_name": "Python 3",
   "language": "python",
   "name": "python3"
  },
  "language_info": {
   "codemirror_mode": {
    "name": "ipython",
    "version": 3
   },
   "file_extension": ".py",
   "mimetype": "text/x-python",
   "name": "python",
   "nbconvert_exporter": "python",
   "pygments_lexer": "ipython3",
   "version": "3.7.0"
  }
 },
 "nbformat": 4,
 "nbformat_minor": 2
}
