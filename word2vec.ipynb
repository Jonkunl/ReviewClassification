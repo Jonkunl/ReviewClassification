{
 "cells": [
  {
   "cell_type": "code",
   "execution_count": 1,
   "metadata": {},
   "outputs": [],
   "source": [
    "import numpy as np\n",
    "import pandas as pd\n",
    "from embeddings import w2v_embedding\n",
    "import re"
   ]
  },
  {
   "cell_type": "code",
   "execution_count": 2,
   "metadata": {},
   "outputs": [],
   "source": [
    "def clean_text(df, col):\n",
    "    \"\"\"A function for keeping only alpha-numeric\n",
    "    characters and replacing all white space with\n",
    "    a single space.\n",
    "    \"\"\"\n",
    "    return df[col].apply(lambda x: re.sub('[^A-Za-z0-9]+', ' ', str(x).lower()))\\\n",
    "                  .apply(lambda x: re.sub('\\s+', ' ', x).strip())"
   ]
  },
  {
   "cell_type": "code",
   "execution_count": 3,
   "metadata": {},
   "outputs": [],
   "source": [
    "df = pd.read_csv('../dataset/small_yelp.csv')"
   ]
  },
  {
   "cell_type": "markdown",
   "metadata": {},
   "source": [
    "##### using following to training and predict using Conv1D and Fully-connected layers"
   ]
  },
  {
   "cell_type": "code",
   "execution_count": 4,
   "metadata": {},
   "outputs": [],
   "source": [
    "# split the dataframe to training, test and validate\n",
    "\n",
    "train = df[:25000]\n",
    "test = df[25000:35000]\n",
    "validate = df[35000:]"
   ]
  },
  {
   "cell_type": "code",
   "execution_count": 5,
   "metadata": {},
   "outputs": [],
   "source": [
    "#column name 'text' for Yelp!, 'review content' for Zappos\n",
    "x_train = clean_text(train, 'text')\n",
    "x_validate = clean_text(validate, 'text')\n",
    "x_test = clean_text(test, 'text')\n",
    "\n",
    "y_train = np.asarray([x-1 for x in train['stars'].values])\n",
    "y_validate = np.asarray([x-1 for x in validate['stars'].values])\n",
    "y_test = np.asarray([x-1 for x in test['stars'].values])"
   ]
  },
  {
   "cell_type": "markdown",
   "metadata": {},
   "source": [
    "the input for convo_fc model is (number of dimension, model_path, training text, validate text, test text, training label, validate label), the output of is the predicted label given for the given test set."
   ]
  },
  {
   "cell_type": "code",
   "execution_count": 6,
   "metadata": {},
   "outputs": [
    {
     "name": "stderr",
     "output_type": "stream",
     "text": [
      "Using TensorFlow backend.\n"
     ]
    },
    {
     "name": "stdout",
     "output_type": "stream",
     "text": [
      "WARNING:tensorflow:From /Library/Frameworks/Python.framework/Versions/3.7/lib/python3.7/site-packages/tensorflow/python/ops/resource_variable_ops.py:435: colocate_with (from tensorflow.python.framework.ops) is deprecated and will be removed in a future version.\n",
      "Instructions for updating:\n",
      "Colocations handled automatically by placer.\n",
      "Model: \"sequential_1\"\n",
      "_________________________________________________________________\n",
      "Layer (type)                 Output Shape              Param #   \n",
      "=================================================================\n",
      "embedding_1 (Embedding)      (None, 200, 300)          16369200  \n",
      "_________________________________________________________________\n",
      "conv1d_1 (Conv1D)            (None, 193, 32)           76832     \n",
      "_________________________________________________________________\n",
      "max_pooling1d_1 (MaxPooling1 (None, 96, 32)            0         \n",
      "_________________________________________________________________\n",
      "flatten_1 (Flatten)          (None, 3072)              0         \n",
      "_________________________________________________________________\n",
      "dense_1 (Dense)              (None, 128)               393344    \n",
      "_________________________________________________________________\n",
      "dropout_1 (Dropout)          (None, 128)               0         \n",
      "_________________________________________________________________\n",
      "dense_2 (Dense)              (None, 64)                8256      \n",
      "_________________________________________________________________\n",
      "dropout_2 (Dropout)          (None, 64)                0         \n",
      "_________________________________________________________________\n",
      "dense_3 (Dense)              (None, 5)                 325       \n",
      "=================================================================\n",
      "Total params: 16,847,957\n",
      "Trainable params: 16,847,957\n",
      "Non-trainable params: 0\n",
      "_________________________________________________________________\n",
      "None\n",
      "Train on 25000 samples, validate on 10000 samples\n",
      "Epoch 1/1\n",
      "25000/25000 [==============================] - 153s 6ms/step - loss: 1.6228 - accuracy: 0.2193 - val_loss: 1.5419 - val_accuracy: 0.3220\n"
     ]
    }
   ],
   "source": [
    "from NeuralNetClassifier import convo_fc\n",
    "\n",
    "y_pred = convo_fc(300, '../shoes_w2v_model.bin', x_train, x_validate, x_test, y_train, y_validate)"
   ]
  },
  {
   "cell_type": "markdown",
   "metadata": {},
   "source": [
    "###### print results"
   ]
  },
  {
   "cell_type": "code",
   "execution_count": 9,
   "metadata": {},
   "outputs": [
    {
     "name": "stdout",
     "output_type": "stream",
     "text": [
      "F1 score: 0.3355\n",
      "[[  46  714  382   94  238]\n",
      " [  18  439  201   65  109]\n",
      " [  20  472  352  103  201]\n",
      " [  27  675  525  190  731]\n",
      " [  36  884  809  341 2328]]\n"
     ]
    }
   ],
   "source": [
    "from NeuralNetClassifier import print_results\n",
    "\n",
    "print_results(y_test, y_pred)"
   ]
  },
  {
   "cell_type": "markdown",
   "metadata": {},
   "source": [
    "##### option to plot the roc-auc curve for a given prediction"
   ]
  },
  {
   "cell_type": "code",
   "execution_count": null,
   "metadata": {},
   "outputs": [],
   "source": [
    "from NeuralNetClassifier import roc_auc_plot\n",
    "import keras\n",
    "\n",
    "y_true = keras.utils.to_categorical(y_test, num_classes=5)\n",
    "plt = roc_auc_plot(y_true, y_pred, title='word2vec-cnn')\n",
    "\n",
    "# plt.savefig('./w2v-cnn.png', dpi=300)"
   ]
  },
  {
   "cell_type": "code",
   "execution_count": null,
   "metadata": {},
   "outputs": [],
   "source": []
  },
  {
   "cell_type": "markdown",
   "metadata": {},
   "source": [
    "##### using following to training and predict using SVM"
   ]
  },
  {
   "cell_type": "markdown",
   "metadata": {},
   "source": [
    "the input of w2v_embedding model is (model_path, training set text)"
   ]
  },
  {
   "cell_type": "code",
   "execution_count": 10,
   "metadata": {},
   "outputs": [],
   "source": [
    "from embeddings import w2v_embedding\n",
    "\n",
    "model_path = '../shoes_w2v_model.bin'\n",
    "x_train = w2v_embedding(model_path, x_train)\n",
    "x_test = w2v_embedding(model_path, x_test)\n",
    "\n",
    "#column name is 'stars' for Yelp! and 'rating' for Zappos\n",
    "y_train = train['stars'].values\n",
    "y_test = test['stars'].values"
   ]
  },
  {
   "cell_type": "code",
   "execution_count": 12,
   "metadata": {},
   "outputs": [],
   "source": [
    "from sklearn.svm import LinearSVC\n",
    "from sklearn.metrics import confusion_matrix, f1_score\n",
    "\n",
    "#initialise SVM\n",
    "svm = LinearSVC(dual=False, max_iter=5000)\n",
    "svm.fit(x_train, y_train)\n",
    "y_pred = svm.predict(x_test)"
   ]
  },
  {
   "cell_type": "code",
   "execution_count": 13,
   "metadata": {},
   "outputs": [
    {
     "name": "stdout",
     "output_type": "stream",
     "text": [
      "F1 score: 0.2874\n"
     ]
    },
    {
     "data": {
      "text/plain": [
       "array([[ 482,  226,  194,  378,  194],\n",
       "       [ 194,  149,  129,  219,  141],\n",
       "       [ 208,  168,  220,  358,  194],\n",
       "       [ 336,  240,  376,  761,  435],\n",
       "       [ 828,  503,  521, 1284, 1262]])"
      ]
     },
     "execution_count": 13,
     "metadata": {},
     "output_type": "execute_result"
    }
   ],
   "source": [
    "print(\"F1 score: {}\".format(f1_score(y_test, y_pred, average='micro')))\n",
    "confusion_matrix(y_test, y_pred)"
   ]
  },
  {
   "cell_type": "code",
   "execution_count": null,
   "metadata": {},
   "outputs": [],
   "source": []
  }
 ],
 "metadata": {
  "kernelspec": {
   "display_name": "Python 3",
   "language": "python",
   "name": "python3"
  },
  "language_info": {
   "codemirror_mode": {
    "name": "ipython",
    "version": 3
   },
   "file_extension": ".py",
   "mimetype": "text/x-python",
   "name": "python",
   "nbconvert_exporter": "python",
   "pygments_lexer": "ipython3",
   "version": "3.7.0"
  }
 },
 "nbformat": 4,
 "nbformat_minor": 2
}
