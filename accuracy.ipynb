{
 "cells": [
  {
   "cell_type": "code",
   "execution_count": 4,
   "metadata": {},
   "outputs": [],
   "source": [
    "def class_accuracy(matrix):\n",
    "    print('accuracy for 1 star is {0}'.format(float(matrix[0][0])/sum(matrix[0])))\n",
    "    print('accuracy for 2 stars is {0}'.format(float(matrix[1][1])/sum(matrix[1])))\n",
    "    print('accuracy for negative is {0}\\n'.\\\n",
    "          format(float(matrix[0][0]+matrix[0][1]+matrix[1][0]+matrix[1][1])/sum(matrix[0]+matrix[1])))\n",
    "    \n",
    "    print('accuracy for 3 star is {0}'.format(float(matrix[2][2])/sum(matrix[2])))\n",
    "    print('accuracy for neutral is {0}\\n'.format(float(matrix[2][2])/sum(matrix[2])))\n",
    "    \n",
    "    print('accuracy for 4 star is {0}'.format(float(matrix[3][3])/sum(matrix[3])))\n",
    "    print('accuracy for 5 stars is {0}'.format(float(matrix[4][4])/sum(matrix[4])))\n",
    "    print('accuracy for negative is {0}\\n'.\\\n",
    "          format(float(matrix[3][3]+matrix[3][4]+matrix[4][3]+matrix[4][4])/sum(matrix[3]+matrix[4])))\n",
    "    \n",
    "    "
   ]
  },
  {
   "cell_type": "code",
   "execution_count": 5,
   "metadata": {},
   "outputs": [],
   "source": [
    "matrix = [\n",
    "    [  503,  437,  146,  134,  187],\n",
    "       [  254,  363,   88,   92,   56],\n",
    "       [  305,  500,  124,   89,   73],\n",
    "       [  636,  849,  291,  218,  200],\n",
    "       [ 1360, 1271,  812,  348,  664]\n",
    "]"
   ]
  },
  {
   "cell_type": "code",
   "execution_count": 6,
   "metadata": {},
   "outputs": [
    {
     "name": "stdout",
     "output_type": "stream",
     "text": [
      "accuracy for 1 star is 0.35749822316986496\n",
      "accuracy for 2 stars is 0.42555685814771393\n",
      "accuracy for negative is 0.6889380530973451\n",
      "\n",
      "accuracy for 3 star is 0.11365719523373052\n",
      "accuracy for neutral is 0.11365719523373052\n",
      "\n",
      "accuracy for 4 star is 0.09936189608021878\n",
      "accuracy for 5 stars is 0.1490460157126824\n",
      "accuracy for negative is 0.21506993532862084\n",
      "\n"
     ]
    }
   ],
   "source": [
    "class_accuracy(matrix)"
   ]
  },
  {
   "cell_type": "code",
   "execution_count": 66,
   "metadata": {},
   "outputs": [
    {
     "data": {
      "text/plain": [
       "176"
      ]
     },
     "execution_count": 66,
     "metadata": {},
     "output_type": "execute_result"
    }
   ],
   "source": [
    "sum(matrix[1])"
   ]
  },
  {
   "cell_type": "code",
   "execution_count": 67,
   "metadata": {},
   "outputs": [
    {
     "data": {
      "text/plain": [
       "639"
      ]
     },
     "execution_count": 67,
     "metadata": {},
     "output_type": "execute_result"
    }
   ],
   "source": [
    "sum(matrix[2])"
   ]
  },
  {
   "cell_type": "code",
   "execution_count": 69,
   "metadata": {},
   "outputs": [
    {
     "data": {
      "text/plain": [
       "72"
      ]
     },
     "execution_count": 69,
     "metadata": {},
     "output_type": "execute_result"
    }
   ],
   "source": [
    "31+19+6+6+10"
   ]
  },
  {
   "cell_type": "code",
   "execution_count": null,
   "metadata": {},
   "outputs": [],
   "source": []
  }
 ],
 "metadata": {
  "kernelspec": {
   "display_name": "Python 3",
   "language": "python",
   "name": "python3"
  },
  "language_info": {
   "codemirror_mode": {
    "name": "ipython",
    "version": 3
   },
   "file_extension": ".py",
   "mimetype": "text/x-python",
   "name": "python",
   "nbconvert_exporter": "python",
   "pygments_lexer": "ipython3",
   "version": "3.7.0"
  }
 },
 "nbformat": 4,
 "nbformat_minor": 2
}
