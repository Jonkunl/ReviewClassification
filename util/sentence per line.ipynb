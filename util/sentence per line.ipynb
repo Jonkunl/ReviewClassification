{
 "cells": [
  {
   "cell_type": "code",
   "execution_count": 1,
   "metadata": {},
   "outputs": [],
   "source": [
    "import numpy as np\n",
    "import pandas as pd\n",
    "from sentence_splitter import SentenceSplitter, split_text_into_sentences\n",
    "import nltk\n",
    "from nltk.corpus import stopwords\n",
    "from nltk.tokenize import word_tokenize"
   ]
  },
  {
   "cell_type": "code",
   "execution_count": 18,
   "metadata": {},
   "outputs": [],
   "source": [
    "splitter = SentenceSplitter(language='en')\n",
    "stop_words = set(stopwords.words('english'))"
   ]
  },
  {
   "cell_type": "code",
   "execution_count": 2,
   "metadata": {},
   "outputs": [],
   "source": [
    "df = pd.read_csv('../dataset/small_yelp.csv')"
   ]
  },
  {
   "cell_type": "code",
   "execution_count": 3,
   "metadata": {},
   "outputs": [
    {
     "data": {
      "text/html": [
       "<div>\n",
       "<style scoped>\n",
       "    .dataframe tbody tr th:only-of-type {\n",
       "        vertical-align: middle;\n",
       "    }\n",
       "\n",
       "    .dataframe tbody tr th {\n",
       "        vertical-align: top;\n",
       "    }\n",
       "\n",
       "    .dataframe thead th {\n",
       "        text-align: right;\n",
       "    }\n",
       "</style>\n",
       "<table border=\"1\" class=\"dataframe\">\n",
       "  <thead>\n",
       "    <tr style=\"text-align: right;\">\n",
       "      <th></th>\n",
       "      <th>Unnamed: 0</th>\n",
       "      <th>Unnamed: 0.1</th>\n",
       "      <th>text</th>\n",
       "      <th>stars</th>\n",
       "    </tr>\n",
       "  </thead>\n",
       "  <tbody>\n",
       "    <tr>\n",
       "      <td>0</td>\n",
       "      <td>572626</td>\n",
       "      <td>572626</td>\n",
       "      <td>Terrible, terrible service, if I could give th...</td>\n",
       "      <td>1</td>\n",
       "    </tr>\n",
       "    <tr>\n",
       "      <td>1</td>\n",
       "      <td>698670</td>\n",
       "      <td>698670</td>\n",
       "      <td>Worst Vegas nightclub ever!!! The staff is so ...</td>\n",
       "      <td>1</td>\n",
       "    </tr>\n",
       "    <tr>\n",
       "      <td>2</td>\n",
       "      <td>954082</td>\n",
       "      <td>954082</td>\n",
       "      <td>This was the worst experience of my life with ...</td>\n",
       "      <td>1</td>\n",
       "    </tr>\n",
       "    <tr>\n",
       "      <td>3</td>\n",
       "      <td>379775</td>\n",
       "      <td>379775</td>\n",
       "      <td>We ordered 1 pizza and bread... Placed the ord...</td>\n",
       "      <td>1</td>\n",
       "    </tr>\n",
       "    <tr>\n",
       "      <td>4</td>\n",
       "      <td>597064</td>\n",
       "      <td>597064</td>\n",
       "      <td>Very disappointed in the service disorganized ...</td>\n",
       "      <td>1</td>\n",
       "    </tr>\n",
       "  </tbody>\n",
       "</table>\n",
       "</div>"
      ],
      "text/plain": [
       "   Unnamed: 0  Unnamed: 0.1  \\\n",
       "0      572626        572626   \n",
       "1      698670        698670   \n",
       "2      954082        954082   \n",
       "3      379775        379775   \n",
       "4      597064        597064   \n",
       "\n",
       "                                                text  stars  \n",
       "0  Terrible, terrible service, if I could give th...      1  \n",
       "1  Worst Vegas nightclub ever!!! The staff is so ...      1  \n",
       "2  This was the worst experience of my life with ...      1  \n",
       "3  We ordered 1 pizza and bread... Placed the ord...      1  \n",
       "4  Very disappointed in the service disorganized ...      1  "
      ]
     },
     "execution_count": 3,
     "metadata": {},
     "output_type": "execute_result"
    }
   ],
   "source": [
    "df.head()"
   ]
  },
  {
   "cell_type": "code",
   "execution_count": 4,
   "metadata": {},
   "outputs": [],
   "source": [
    "train_df = df[:25000]\n",
    "vt_df = df[25000:]\n",
    "validate, test = np.split(vt_df, 2)"
   ]
  },
  {
   "cell_type": "code",
   "execution_count": 7,
   "metadata": {},
   "outputs": [
    {
     "data": {
      "text/plain": [
       "5    4455\n",
       "4    2194\n",
       "1    1407\n",
       "3    1091\n",
       "2     853\n",
       "Name: stars, dtype: int64"
      ]
     },
     "execution_count": 7,
     "metadata": {},
     "output_type": "execute_result"
    }
   ],
   "source": [
    "test['stars'].value_counts()"
   ]
  },
  {
   "cell_type": "code",
   "execution_count": 62,
   "metadata": {},
   "outputs": [],
   "source": [
    "train, validate, test = np.split(df.sample(frac=1), [int(.6*len(df)), int(.8*len(df))])"
   ]
  },
  {
   "cell_type": "code",
   "execution_count": 63,
   "metadata": {},
   "outputs": [],
   "source": [
    "value5 = train.loc[train['stars'] == 5]\n",
    "value4 = train.loc[train['stars'] == 4]\n",
    "value3 = train.loc[train['stars'] == 3]\n",
    "value2 = train.loc[train['stars'] == 2]\n",
    "value1 = train.loc[train['stars'] == 1]\n",
    "value5 = value5[:5000]\n",
    "value4 = value4[:5000]\n",
    "value3 = value3[:5000]\n",
    "value2 = value2[:5000]\n",
    "value1 = value1[:5000]\n",
    "\n",
    "train = pd.concat([value1,value2,value3,value4,value5])"
   ]
  },
  {
   "cell_type": "code",
   "execution_count": 64,
   "metadata": {},
   "outputs": [],
   "source": [
    "validate = validate[:10000]\n",
    "test = test[:10000]"
   ]
  },
  {
   "cell_type": "code",
   "execution_count": 65,
   "metadata": {},
   "outputs": [],
   "source": [
    "new_df = pd.concat([train, validate, test])"
   ]
  },
  {
   "cell_type": "code",
   "execution_count": 8,
   "metadata": {},
   "outputs": [],
   "source": [
    "df = df[~df['text'].isin([np.nan])]"
   ]
  },
  {
   "cell_type": "code",
   "execution_count": 67,
   "metadata": {},
   "outputs": [],
   "source": [
    "new_df.to_csv('../dataset/yelp/small_yelp.csv')"
   ]
  },
  {
   "cell_type": "code",
   "execution_count": 68,
   "metadata": {},
   "outputs": [],
   "source": [
    "_reviews = new_df['text'].tolist()"
   ]
  },
  {
   "cell_type": "code",
   "execution_count": 69,
   "metadata": {},
   "outputs": [
    {
     "data": {
      "text/plain": [
       "45000"
      ]
     },
     "execution_count": 69,
     "metadata": {},
     "output_type": "execute_result"
    }
   ],
   "source": [
    "len(_reviews)"
   ]
  },
  {
   "cell_type": "code",
   "execution_count": 24,
   "metadata": {},
   "outputs": [],
   "source": [
    "def sentenceProcessing(reviews):\n",
    "    filt_rev = []\n",
    "    sentences = splitter.split(text=reviews)\n",
    "    for sent in sentences:\n",
    "        sent_tok = word_tokenize(sent) \n",
    "#lower case the sentence\n",
    "        l_sent = [tok.lower() for tok in sent_tok]\n",
    "        filt_rev.append(l_sent)\n",
    "    \n",
    "    return filt_rev"
   ]
  },
  {
   "cell_type": "markdown",
   "metadata": {},
   "source": [
    "##### create a text file "
   ]
  },
  {
   "cell_type": "code",
   "execution_count": 25,
   "metadata": {},
   "outputs": [],
   "source": [
    "train_reviews = train_df['review content'].tolist()"
   ]
  },
  {
   "cell_type": "code",
   "execution_count": 26,
   "metadata": {},
   "outputs": [],
   "source": [
    "vt_reviews = vt_df['review content'].tolist()"
   ]
  },
  {
   "cell_type": "code",
   "execution_count": 27,
   "metadata": {},
   "outputs": [
    {
     "data": {
      "text/plain": [
       "20000"
      ]
     },
     "execution_count": 27,
     "metadata": {},
     "output_type": "execute_result"
    }
   ],
   "source": [
    "len(vt_reviews)"
   ]
  },
  {
   "cell_type": "code",
   "execution_count": 29,
   "metadata": {},
   "outputs": [],
   "source": [
    "with open('../dataset/shoes/train_shoes.txt', 'w') as rev_sent:\n",
    "    for rev in train_reviews:\n",
    "        for sent in sentenceProcessing(rev):\n",
    "            ss = (' '.join(sent)).strip('\\n')\n",
    "            #this line acts as a delimiter\n",
    "            rev_sent.write(ss+'\\n')\n",
    "        rev_sent.write('split line\\n')"
   ]
  },
  {
   "cell_type": "code",
   "execution_count": 30,
   "metadata": {},
   "outputs": [],
   "source": [
    "with open('../dataset/shoes/valtest_shoes.txt', 'w') as rev_sent:\n",
    "    for rev in vt_reviews:\n",
    "        for sent in sentenceProcessing(rev):\n",
    "            ss = (' '.join(sent)).strip('\\n')\n",
    "            ##this line acts as a delimiter\n",
    "            rev_sent.write(ss+'\\n')\n",
    "        rev_sent.write('split line\\n')"
   ]
  },
  {
   "cell_type": "code",
   "execution_count": null,
   "metadata": {},
   "outputs": [],
   "source": []
  }
 ],
 "metadata": {
  "kernelspec": {
   "display_name": "Python 3",
   "language": "python",
   "name": "python3"
  },
  "language_info": {
   "codemirror_mode": {
    "name": "ipython",
    "version": 3
   },
   "file_extension": ".py",
   "mimetype": "text/x-python",
   "name": "python",
   "nbconvert_exporter": "python",
   "pygments_lexer": "ipython3",
   "version": "3.7.0"
  }
 },
 "nbformat": 4,
 "nbformat_minor": 2
}
